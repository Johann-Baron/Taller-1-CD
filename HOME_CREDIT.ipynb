{
  "nbformat": 4,
  "nbformat_minor": 0,
  "metadata": {
    "colab": {
      "provenance": []
    },
    "kernelspec": {
      "name": "python3",
      "display_name": "Python 3"
    },
    "language_info": {
      "name": "python"
    }
  },
  "cells": [
    {
      "cell_type": "markdown",
      "source": [
        "# HOME CREDIT"
      ],
      "metadata": {
        "id": "fLmcsdp5tGW-"
      }
    },
    {
      "cell_type": "markdown",
      "source": [
        "Johann Efren Barón Bermejo"
      ],
      "metadata": {
        "id": "LWVaUPyc_5mi"
      }
    },
    {
      "cell_type": "markdown",
      "source": [
        "Home Credit es una entidad que tiene como misión la inclusión financiera para clientes sin o con \n",
        "poca historia crediticia. Para tomar las decisiones de a quién le presta dinero y a quien no, ellos \n",
        "utilizan múltiples variables (con datos tradicionales y no tradicionales en riesgo de crédito) para \n",
        "predecir la capacidad de pago de sus clientes."
      ],
      "metadata": {
        "id": "TgDzWAO4tNTW"
      }
    },
    {
      "cell_type": "code",
      "execution_count": null,
      "metadata": {
        "id": "LWkJN9fdp0d5"
      },
      "outputs": [],
      "source": [
        "import pandas as pd\n",
        "import numpy as np\n",
        "pd.set_option('display.max_columns', None)\n",
        "\n",
        "train_labels = pd.read_csv('')\n",
        "train_values = pd.read_csv('')\n",
        "test = pd.read_csv('')\n",
        "train_values.head(1)"
      ]
    },
    {
      "cell_type": "code",
      "source": [
        "train = pd.merge(train_values,train_labels,on='id',how='left')"
      ],
      "metadata": {
        "id": "fIrWsyKAw28-"
      },
      "execution_count": null,
      "outputs": []
    },
    {
      "cell_type": "markdown",
      "source": [
        "#### 2. Análisis exploratorio de datos (EDA)"
      ],
      "metadata": {
        "id": "OiKZYX-1xDhe"
      }
    },
    {
      "cell_type": "code",
      "source": [
        "train.shape"
      ],
      "metadata": {
        "id": "aAFagL16xCqs"
      },
      "execution_count": null,
      "outputs": []
    },
    {
      "cell_type": "code",
      "source": [
        "train.dtypes"
      ],
      "metadata": {
        "id": "zpdwpbHPxDP8"
      },
      "execution_count": null,
      "outputs": []
    },
    {
      "cell_type": "code",
      "source": [
        "train.isna().sum()"
      ],
      "metadata": {
        "id": "odOMyn5Xx5k7"
      },
      "execution_count": null,
      "outputs": []
    },
    {
      "cell_type": "code",
      "source": [
        "print(train.shape)\n",
        "len(train.id.unique())"
      ],
      "metadata": {
        "id": "bDvMHv24yCJ8"
      },
      "execution_count": null,
      "outputs": []
    },
    {
      "cell_type": "code",
      "source": [
        "train.drop_duplicates(inplace=True)\n",
        "print(train.shape)\n",
        "len(train.id.unique())"
      ],
      "metadata": {
        "id": "Cf6Z-HfxyFID"
      },
      "execution_count": null,
      "outputs": []
    },
    {
      "cell_type": "code",
      "source": [
        "for columna in train.columns:\n",
        "    if train[columna].dtypes=='O':\n",
        "        print(columna+': '+format(len(train[columna].unique())))"
      ],
      "metadata": {
        "id": "bWEv6bHbyKEL"
      },
      "execution_count": null,
      "outputs": []
    },
    {
      "cell_type": "markdown",
      "source": [
        "#### 3. Limpieza de datos"
      ],
      "metadata": {
        "id": "sstf5ok78ZpE"
      }
    },
    {
      "cell_type": "code",
      "source": [
        "train.set_index('id',inplace=True)\n",
        "train.head(1)"
      ],
      "metadata": {
        "id": "h_T6rD3k8V18"
      },
      "execution_count": null,
      "outputs": []
    },
    {
      "cell_type": "code",
      "source": [
        "train.cod_1 = train.cod_1.astype(str)\n",
        "train.cod_2 = train.cod_2.astype(str)"
      ],
      "metadata": {
        "id": "6ugebLoE-FEC"
      },
      "execution_count": null,
      "outputs": []
    },
    {
      "cell_type": "code",
      "source": [
        "for columna in lista_col_outliers:\n",
        "    q1 = train[columna].quantile(0.25)\n",
        "    q3 = train[columna].quantile(0.75)\n",
        "    iqr = q3-q1 \n",
        "    limite_arriba = q3 + 1.5*iqr\n",
        "    limite_abajo = q1 - 1.5*iqr\n",
        "    mediana = train.loc[train[columna]<q3 + 1.5*iqr, columna].median()\n",
        "    media = train[columna].mean()\n",
        "    train.loc[train[columna].abs() > limite_arriba,columna] = np.nan\n",
        "    train[columna].fillna(limite_arriba, inplace=True)\n",
        "    train.loc[train[columna].abs() < limite_abajo,columna] = np.nan\n",
        "    train[columna].fillna(limite_abajo, inplace=True) "
      ],
      "metadata": {
        "id": "m0dy5U8f-G5p"
      },
      "execution_count": null,
      "outputs": []
    },
    {
      "cell_type": "markdown",
      "source": [
        "#### 4. Transformación de datos"
      ],
      "metadata": {
        "id": "ELtOAkJz_DNK"
      }
    },
    {
      "cell_type": "code",
      "source": [],
      "metadata": {
        "id": "dOIVLGPt-QQZ"
      },
      "execution_count": null,
      "outputs": []
    }
  ]
}